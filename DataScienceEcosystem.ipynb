{
  "metadata": {
    "kernelspec": {
      "name": "python",
      "display_name": "Python (Pyodide)",
      "language": "python"
    },
    "language_info": {
      "codemirror_mode": {
        "name": "python",
        "version": 3
      },
      "file_extension": ".py",
      "mimetype": "text/x-python",
      "name": "python",
      "nbconvert_exporter": "python",
      "pygments_lexer": "ipython3",
      "version": "3.8"
    }
  },
  "nbformat_minor": 5,
  "nbformat": 4,
  "cells": [
    {
      "id": "2dc39e78-a5e5-41a9-9f2b-082f64a5ecd7",
      "cell_type": "markdown",
      "source": "# Data Science Tools and Ecosystem\n\nIn this notebook, Data Science Tools and Ecosystem are summarized.",
      "metadata": {}
    },
    {
      "id": "08f8fd22-d5a9-493b-9753-1c077e2aebd0",
      "cell_type": "markdown",
      "source": "Some of the popular languages that Data Scientists use are:\n1. **Python**\n2. **Lenguaje R**\n3. **SQL**",
      "metadata": {}
    },
    {
      "id": "454d32ca-25fc-4850-a9bd-2864f46a92b8",
      "cell_type": "code",
      "source": "Some of the commonly used libraries used by Data Scientists include:\n1. **NumPy**\n2. **SciPy**\n3. **MatPlotLib**",
      "metadata": {
        "trusted": true
      },
      "outputs": [],
      "execution_count": null
    },
    {
      "id": "5fb8699a-9578-4060-8188-0549c4318cd1",
      "cell_type": "markdown",
      "source": "**Objectives:**\n- List of Data Science IDEs\n- List of Data Science Languages\n- Examples of Python expresions",
      "metadata": {}
    },
    {
      "id": "ff555188-e74e-409a-ad21-779a3a31a8a2",
      "cell_type": "markdown",
      "source": "<table>\n    <tr>\n        <th>Data Science Tools</th>\n    </tr>\n    <tr>\n         <td>Jupiter IDE</td>\n    </tr>\n     <tr>\n         <td>Microsoft Visual Studio</td>\n    </tr>\n     <tr>\n         <td>Anaconda Navigator</td>\n    </tr>\n</table>",
      "metadata": {}
    },
    {
      "id": "68451acf-f7c0-4067-9afb-2850fdc4b18a",
      "cell_type": "markdown",
      "source": "### Below are a few examples of evaluating arithmetic expressions in Python\n\n",
      "metadata": {}
    },
    {
      "id": "ee9905c9-1a43-4886-9c64-1c29a87902e6",
      "cell_type": "code",
      "source": "# This a simple arithmetic expression to mutiply then add integers\n\n(3*4)+5",
      "metadata": {
        "trusted": true
      },
      "outputs": [
        {
          "execution_count": 9,
          "output_type": "execute_result",
          "data": {
            "text/plain": "17"
          },
          "metadata": {}
        }
      ],
      "execution_count": 9
    },
    {
      "id": "41a8c6fa-a900-4681-b0ee-0c531fb1997d",
      "cell_type": "code",
      "source": "#This will convert 200 minutes to hours by diving by 60\n# EXP: (200/60)\n\n200/60",
      "metadata": {
        "trusted": true
      },
      "outputs": [
        {
          "execution_count": 10,
          "output_type": "execute_result",
          "data": {
            "text/plain": "3.3333333333333335"
          },
          "metadata": {}
        }
      ],
      "execution_count": 10
    },
    {
      "id": "e098d2ee-e407-46c8-98a0-a63473196054",
      "cell_type": "markdown",
      "source": "## Author\n\nCésar A. González",
      "metadata": {}
    }
  ]
}